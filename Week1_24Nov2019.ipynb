{
 "cells": [
  {
   "cell_type": "markdown",
   "metadata": {},
   "source": [
    "## The Battle of the Neighborhoods - Week 1 Project"
   ]
  },
  {
   "cell_type": "markdown",
   "metadata": {},
   "source": [
    "### Introduction\n",
    "### The Business Problem :"
   ]
  },
  {
   "cell_type": "markdown",
   "metadata": {},
   "source": [
    "###  Historic Background:"
   ]
  },
  {
   "cell_type": "markdown",
   "metadata": {},
   "source": [
    "The New York City is one of the most populous cities in the United States having diverse cultural assets and argued as the financial capital of USA. It is multicultural, provides enormous amount of business opportunities and very business friendly. It attracts many different players into the market. It is a global hub of business and commerce. The city is a major center for banking and finance, retailing, world trade, transportation, tourism, real estate, new media, traditional media, advertising, legal services, accountancy, insurance, theater, fashion, and the arts in the United States.\n",
    "With above characteristics the city market is highly competitive and being one of the most cities in the world, the cost and risk of business is also one of the highest. Keeping this in mind, any new business venture or expansion needs to be analyzed carefully. The insights derived from analysis should give good understanding of the business environment which ultimately helps in strategically targeting the market. This also helps in risk reduction."
   ]
  },
  {
   "cell_type": "markdown",
   "metadata": {},
   "source": [
    "###  Problem Description:"
   ]
  },
  {
   "cell_type": "markdown",
   "metadata": {},
   "source": [
    "A restaurant is a business which prepares and serves food and drink to customers in return for money, either paid before the meal, after the meal, or with an open account. The City of New York is famous for its excelllent cuisine. It's food culture includes an array of international cuisines influenced by the city's immigrant history.<Br> \n",
    "1. Central and Eastern European immigrants, especially Jewish immigrants - bagels, cheesecake, hot dogs, knishes, and delicatessens<Br> \n",
    "2. Italian immigrants - New York-style pizza and Italian cuisine<Br>\n",
    "3. Jewish immigrants and Irish immigrants - pastrami and corned beef<Br>\n",
    "4. Chinese and other Asian restaurants, sandwich joints, trattorias, diners, and coffeehouses are ubiquitous throughout the city<Br>\n",
    "5. mobile food vendors - Some 4,000 licensed by the city<Br>\n",
    "6. Middle Eastern foods such as falafel and kebabs examples of modern New York street food<Br>\n",
    "7. It is famous for not just Pizzerias, Cafe's but also for fine dining Michelin starred restaurants.The city is home to \"nearly one thousand of the finest and most diverse haute cuisine restaurants in the world\", according to Michelin. \n",
    "\n",
    "So it is evident that to survive in such competitive market it is very important to startegically plan. Various factors need to be studied inorder to decide on the Location such as : <Br>\n",
    "1. New York Population <Br>\n",
    "2. New York City Demographics <Br>\n",
    "2. Are there any Farmers Markets, Wholesale markets etc nearby so that the ingredients can be purchased fresh to maintain quality and cost?<Br>\n",
    "3. Are there any venues like Gyms, Entertainmnet zones, Parks etc nearby where floating population is high etc <Br>\n",
    "4. Who are the competitors in that location? <Br>\n",
    "5. Cuisine served / Menu of the competitors <Br>\n",
    "6. Segmentation of the Borough <Br>\n",
    "7. Untapped markets <Br>\n",
    "8. Saturated markets etc<Br>\n",
    "The list can go on...\n",
    "    \n",
    "Eventhough well funded XYZ Company Ltd. need to choose the correct location to start its first venture.If this is successful they can replicate the same in other locations. First move is very important, thereby choice of location is very important."
   ]
  },
  {
   "cell_type": "markdown",
   "metadata": {},
   "source": [
    "### Target Audience:"
   ]
  },
  {
   "cell_type": "markdown",
   "metadata": {},
   "source": [
    "To recommend the correct location, XYZ Company Ltd has appointed me to lead of the Data Science team. The objective is to locate and recommend to the management which neighborhood of Newyork city will be best choice to start a restaurant. The Management also expects to understand the rationale of the recommendations made.\n",
    "\n",
    "This would interest anyone who wants to start a new restaurant in Newyork city."
   ]
  },
  {
   "cell_type": "markdown",
   "metadata": {},
   "source": [
    "###  Success Criteria:"
   ]
  },
  {
   "cell_type": "markdown",
   "metadata": {},
   "source": [
    "The success criteria of the project will be a good recommendation of borough/Neighborhood choice to XYZ Company Ltd based on Lack of such restaurants in that location and nearest suppliers of ingredients."
   ]
  },
  {
   "cell_type": "markdown",
   "metadata": {},
   "source": [
    "### Data :"
   ]
  },
  {
   "cell_type": "markdown",
   "metadata": {},
   "source": [
    "The city will be analysed in this project : ***Newyork City***. \n",
    "\n",
    "The dataset willl be used for this analysis is as follows"
   ]
  },
  {
   "cell_type": "markdown",
   "metadata": {},
   "source": [
    "***1 :*** \n",
    "Neighborhood has a total of 5 boroughs and 306 neighborhoods. In order to segement the neighborhoods and explore them, we will essentially need a dataset that contains the 5 boroughs and the neighborhoods that exist in each borough as well as the the latitude and logitude coordinates of each neighborhood.\n",
    "\n",
    "This dataset exists for free on the web. Link to the dataset is : https://geo.nyu.edu/catalog/nyu_2451_34572"
   ]
  },
  {
   "cell_type": "markdown",
   "metadata": {},
   "source": [
    "***2 :*** Second data which will be used is the DOHMH Farmers Markets and Food Boxes dataset. In this we will be using the data of Farmers Markets.\n",
    "\n",
    "https://data.cityofnewyork.us/dataset/DOHMH-Farmers-Markets-and-Food-Boxes/8vwk-6iz2\n",
    "\n",
    "Website-https://www.grownyc.org/greenmarketco/foodbox <Br>\n",
    "GrowNYC's Fresh ***Food Box*** Program is a food access initiative that enables under-served communities to purchase fresh, healthy, and primarily regionally grown produce well below traditional retail prices.\n",
    "    \n",
    "A ***farmers' market*** is often defined as a public site used by two or more local or regional producers for the direct sale of farm products to consumers. In addition to fresh fruits and vegetables, markets may sell dairy products, fish, meat, baked goods, and other minimally processed foods."
   ]
  },
  {
   "cell_type": "markdown",
   "metadata": {},
   "source": [
    "***3 :*** For the below analysis we will get data from wikipedia as given below : <Br>\n",
    "1. New York Population <Br>\n",
    "2. New York City Demographics <Br>\n",
    "3. Cuisine of New York city <Br>\n",
    "    \n",
    "https://en.wikipedia.org/wiki/New_York_City <Br>\n",
    "https://en.wikipedia.org/wiki/Economy_of_New_York_City <Br>\n",
    "https://en.wikipedia.org/wiki/Portal:New_York_City <Br>\n",
    "https://en.wikipedia.org/wiki/Cuisine_of_New_York_City <Br>\n",
    "https://en.wikipedia.org/wiki/List_of_Michelin_starred_restaurants_in_New_York_City"
   ]
  },
  {
   "cell_type": "markdown",
   "metadata": {},
   "source": [
    "***4 :*** Newyork city geographical coordinates data will be utilized as input for the Foursquare API, that will be leveraged to provision venues information for each neighborhood.We will use the Foursquare API to explore neighborhoods in New York City. The below is image of the Foursquare API data.\n",
    "\n",
    "<a href=\"https://i.imgur.com/MOxxyoY.png \">\n",
    "  <img src=\"https://i.imgur.com/MOxxyoY.png\" alt=\"Data Sample\">\n",
    "</a>"
   ]
  },
  {
   "cell_type": "code",
   "execution_count": null,
   "metadata": {},
   "outputs": [],
   "source": []
  }
 ],
 "metadata": {
  "kernelspec": {
   "display_name": "Python 3",
   "language": "python",
   "name": "python3"
  },
  "language_info": {
   "codemirror_mode": {
    "name": "ipython",
    "version": 3
   },
   "file_extension": ".py",
   "mimetype": "text/x-python",
   "name": "python",
   "nbconvert_exporter": "python",
   "pygments_lexer": "ipython3",
   "version": "3.7.3"
  }
 },
 "nbformat": 4,
 "nbformat_minor": 4
}
